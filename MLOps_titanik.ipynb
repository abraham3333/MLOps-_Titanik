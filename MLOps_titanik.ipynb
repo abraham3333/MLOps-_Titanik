{
  "nbformat": 4,
  "nbformat_minor": 0,
  "metadata": {
    "colab": {
      "provenance": [],
      "authorship_tag": "ABX9TyN2rMA3YziUFHvHqXSY66vT",
      "include_colab_link": true
    },
    "kernelspec": {
      "name": "python3",
      "display_name": "Python 3"
    },
    "language_info": {
      "name": "python"
    }
  },
  "cells": [
    {
      "cell_type": "markdown",
      "metadata": {
        "id": "view-in-github",
        "colab_type": "text"
      },
      "source": [
        "<a href=\"https://colab.research.google.com/github/abraham3333/MLOps-_Titanik/blob/main/MLOps_titanik.ipynb\" target=\"_parent\"><img src=\"https://colab.research.google.com/assets/colab-badge.svg\" alt=\"Open In Colab\"/></a>"
      ]
    },
    {
      "cell_type": "markdown",
      "source": [
        "1. Data Acquisition and Exploration\n"
      ],
      "metadata": {
        "id": "7TmAad5KAPX4"
      }
    },
    {
      "cell_type": "markdown",
      "source": [
        "1.1 Importing Necessary Libraries\n"
      ],
      "metadata": {
        "id": "lZ2Ir1Qry0uv"
      }
    },
    {
      "cell_type": "code",
      "execution_count": null,
      "metadata": {
        "id": "zE5vBvgI__P-"
      },
      "outputs": [],
      "source": [
        "# Basic libraries\n",
        "import pandas as pd\n",
        "import numpy as np\n",
        "\n",
        "# Visualization\n",
        "import matplotlib.pyplot as plt\n",
        "import seaborn as sns\n",
        "\n",
        "# Ignore warnings\n",
        "import warnings\n",
        "warnings.filterwarnings('ignore')"
      ]
    },
    {
      "cell_type": "markdown",
      "source": [
        "2 Loading the Data"
      ],
      "metadata": {
        "id": "b7iotIHIAUv2"
      }
    },
    {
      "cell_type": "code",
      "source": [
        "# Load the dataset using pandas\n",
        "df = pd.read_csv('titanic.csv')"
      ],
      "metadata": {
        "id": "KakdnnxFAVJX"
      },
      "execution_count": null,
      "outputs": []
    },
    {
      "cell_type": "code",
      "source": [
        "#df = sns.load_dataset('titanic')"
      ],
      "metadata": {
        "id": "CWP8FATFAeLc"
      },
      "execution_count": null,
      "outputs": []
    },
    {
      "cell_type": "markdown",
      "source": [
        "1.3 Exploratory Data Analysis (EDA)\n"
      ],
      "metadata": {
        "id": "Z-U1Fx08Ad5Y"
      }
    },
    {
      "cell_type": "code",
      "source": [
        "# Display the first 5 rows\n",
        "print(df.head())\n",
        "\n",
        "# Dataset dimensions\n",
        "print(\"Dataset shape:\", df.shape)\n",
        "\n",
        "# Check for missing values\n",
        "print(df.isnull().sum())\n",
        "\n",
        "# Basic statistics\n",
        "print(df.describe())"
      ],
      "metadata": {
        "id": "stwtYnkwAopG"
      },
      "execution_count": null,
      "outputs": []
    },
    {
      "cell_type": "markdown",
      "source": [
        "Visualization Examples:\n",
        "\n",
        "\n",
        "\n"
      ],
      "metadata": {
        "id": "_TT5ZeVHAao6"
      }
    },
    {
      "cell_type": "code",
      "source": [
        "# Survival count based on the 'survived' column\n",
        "sns.countplot(x='survived', data=df)\n",
        "plt.title('Survival Distribution')\n",
        "plt.show()\n",
        "\n",
        "# Age distribution\n",
        "sns.histplot(df['age'].dropna(), bins=30)\n",
        "plt.title('Age Distribution')\n",
        "plt.show()"
      ],
      "metadata": {
        "id": "nClW6ql4At-x"
      },
      "execution_count": null,
      "outputs": []
    },
    {
      "cell_type": "markdown",
      "source": [
        "2. Data Preprocessing"
      ],
      "metadata": {
        "id": "aGycoe-0Axn3"
      }
    },
    {
      "cell_type": "markdown",
      "source": [
        "2.1 Handling Missing Values\n"
      ],
      "metadata": {
        "id": "LqoNxpGMA1xn"
      }
    },
    {
      "cell_type": "code",
      "source": [
        "# Drop columns with more than 20% missing values\n",
        "threshold = len(df) * 0.2\n",
        "df = df.dropna(axis=1, thresh=threshold)\n",
        "\n",
        "# Fill remaining missing values appropriately\n",
        "# For example, fill missing 'age' values with the median\n",
        "df['age'].fillna(df['age'].median(), inplace=True)\n",
        "\n",
        "# Fill missing 'embarked' values with the mode\n",
        "df['embarked'].fillna(df['embarked'].mode()[0], inplace=True)"
      ],
      "metadata": {
        "id": "Kr0aRkMVAyZB"
      },
      "execution_count": null,
      "outputs": []
    },
    {
      "cell_type": "markdown",
      "source": [
        "2.2 Handling Categorical Variables"
      ],
      "metadata": {
        "id": "p8jHlVhxvIAM"
      }
    },
    {
      "cell_type": "code",
      "source": [
        "# Convert categorical variables into dummy/indicator variables\n",
        "categorical_vars = ['sex', 'embarked', 'class', 'who', 'adult_male', 'deck', 'alone']\n",
        "df = pd.get_dummies(df, columns=categorical_vars, drop_first=True)"
      ],
      "metadata": {
        "id": "L5P9UOTNvIha"
      },
      "execution_count": null,
      "outputs": []
    },
    {
      "cell_type": "markdown",
      "source": [
        "2.3 Dropping Unnecessary Columns\n"
      ],
      "metadata": {
        "id": "n4d50gFsvK0X"
      }
    },
    {
      "cell_type": "code",
      "source": [
        "# Drop columns that are not useful for modeling\n",
        "df.drop(['name', 'ticket', 'fare', 'adult_male', 'alive', 'who', 'deck', 'alone'], axis=1, inplace=True)"
      ],
      "metadata": {
        "id": "FuWetzgvvPtj"
      },
      "execution_count": null,
      "outputs": []
    },
    {
      "cell_type": "markdown",
      "source": [
        "2.4 Defining Features and Target Variable"
      ],
      "metadata": {
        "id": "JJsQciHsvRmT"
      }
    },
    {
      "cell_type": "code",
      "source": [
        "# Target variable\n",
        "y = df['survived']\n",
        "\n",
        "# Features\n",
        "X = df.drop('survived', axis=1)"
      ],
      "metadata": {
        "id": "hNMpVkS8vUi7"
      },
      "execution_count": null,
      "outputs": []
    },
    {
      "cell_type": "markdown",
      "source": [
        "2.5 Splitting Data into Training and Testing Sets\n"
      ],
      "metadata": {
        "id": "X4Tb9TEbvWLX"
      }
    },
    {
      "cell_type": "code",
      "source": [
        "from sklearn.model_selection import train_test_split\n",
        "\n",
        "X_train, X_test, y_train, y_test = train_test_split(X, y, test_size=0.2, random_state=42)"
      ],
      "metadata": {
        "id": "jVdF6omcvZKP"
      },
      "execution_count": null,
      "outputs": []
    },
    {
      "cell_type": "markdown",
      "source": [
        "3. Model Development and Training\n"
      ],
      "metadata": {
        "id": "jV-cXbNPva-2"
      }
    },
    {
      "cell_type": "markdown",
      "source": [
        "3.1 Model Selection and Training\n"
      ],
      "metadata": {
        "id": "wOckrd1SveHu"
      }
    },
    {
      "cell_type": "code",
      "source": [
        "from sklearn.ensemble import RandomForestClassifier\n",
        "\n",
        "# Define the model\n",
        "model = RandomForestClassifier(n_estimators=100, random_state=42)\n",
        "\n",
        "# Train the model\n",
        "model.fit(X_train, y_train)"
      ],
      "metadata": {
        "id": "sgqL-8AdvdN1"
      },
      "execution_count": null,
      "outputs": []
    },
    {
      "cell_type": "markdown",
      "source": [
        "3.2 Hyperparameter Optimization (Optional)\n"
      ],
      "metadata": {
        "id": "39B1I4G7viiv"
      }
    },
    {
      "cell_type": "code",
      "source": [
        "from sklearn.model_selection import GridSearchCV\n",
        "\n",
        "param_grid = {\n",
        "    'n_estimators': [100, 200],\n",
        "    'max_depth': [4, 6, 8],\n",
        "    'min_samples_split': [2, 5]\n",
        "}\n",
        "\n",
        "grid_search = GridSearchCV(estimator=model, param_grid=param_grid, cv=5, n_jobs=-1, scoring='accuracy')\n",
        "grid_search.fit(X_train, y_train)\n",
        "\n",
        "# Best model after hyperparameter tuning\n",
        "best_model = grid_search.best_estimator_"
      ],
      "metadata": {
        "id": "8dzXWxmEvh2V"
      },
      "execution_count": null,
      "outputs": []
    },
    {
      "cell_type": "markdown",
      "source": [
        "4. Model Evaluation\n"
      ],
      "metadata": {
        "id": "tNbw1S9hvoAZ"
      }
    },
    {
      "cell_type": "code",
      "source": [
        "from sklearn.metrics import accuracy_score, confusion_matrix, classification_report\n",
        "\n",
        "# Make predictions on the test set\n",
        "y_pred = model.predict(X_test)\n",
        "\n",
        "# Accuracy score\n",
        "accuracy = accuracy_score(y_test, y_pred)\n",
        "print(\"Accuracy Score:\", accuracy)\n",
        "\n",
        "# Classification report\n",
        "print(classification_report(y_test, y_pred))\n",
        "\n",
        "# Confusion matrix visualization\n",
        "sns.heatmap(confusion_matrix(y_test, y_pred), annot=True, fmt='d')\n",
        "plt.title('Confusion Matrix')\n",
        "plt.show()"
      ],
      "metadata": {
        "id": "k3bu0d0lvp8D"
      },
      "execution_count": null,
      "outputs": []
    },
    {
      "cell_type": "markdown",
      "source": [
        "5. Model Saving\n"
      ],
      "metadata": {
        "id": "xKh1HVb7vsCN"
      }
    },
    {
      "cell_type": "code",
      "source": [
        "import joblib\n",
        "\n",
        "# Save the trained model\n",
        "joblib.dump(model, 'model.joblib')\n",
        "\n",
        "# Save the feature names\n",
        "joblib.dump(X.columns, 'features.joblib')"
      ],
      "metadata": {
        "id": "DnYxYk1wvttQ"
      },
      "execution_count": null,
      "outputs": []
    },
    {
      "cell_type": "markdown",
      "source": [
        "6. API Creation using FastAPI\n"
      ],
      "metadata": {
        "id": "G6Sl5cVSv1W8"
      }
    },
    {
      "cell_type": "markdown",
      "source": [
        "6.1 Installing Necessary Libraries\n",
        "Install FastAPI and Uvicorn if you haven't already:"
      ],
      "metadata": {
        "id": "VDF-ZHmBv64M"
      }
    },
    {
      "cell_type": "code",
      "source": [
        "# bash\n",
        "pip install fastapi uvicorn"
      ],
      "metadata": {
        "id": "FwK6_8VxvvUZ"
      },
      "execution_count": null,
      "outputs": []
    },
    {
      "cell_type": "markdown",
      "source": [
        "6.2 Writing the API Code (app.py)\n"
      ],
      "metadata": {
        "id": "3fhn12Dsv-MM"
      }
    },
    {
      "cell_type": "code",
      "source": [
        "from fastapi import FastAPI\n",
        "import joblib\n",
        "import pandas as pd\n",
        "\n",
        "app = FastAPI()\n",
        "\n",
        "# Load the model and features\n",
        "model = joblib.load('model.joblib')\n",
        "features = joblib.load('features.joblib')\n",
        "\n",
        "@app.post('/predict')\n",
        "def predict(data: dict):\n",
        "    # Convert incoming data to DataFrame\n",
        "    df = pd.DataFrame([data])\n",
        "\n",
        "    # Ensure the DataFrame has the correct columns\n",
        "    df = df.reindex(columns=features, fill_value=0)\n",
        "\n",
        "    # Make prediction\n",
        "    prediction = model.predict(df)\n",
        "    probability = model.predict_proba(df)\n",
        "\n",
        "    return {\n",
        "        'prediction': int(prediction[0]),\n",
        "        'probability': probability[0].tolist()\n",
        "    }"
      ],
      "metadata": {
        "id": "jvw2VPDEwA5L"
      },
      "execution_count": null,
      "outputs": []
    },
    {
      "cell_type": "markdown",
      "source": [
        "6.3 Running the API\n"
      ],
      "metadata": {
        "id": "V4GHA-ejwDHe"
      }
    },
    {
      "cell_type": "code",
      "source": [
        "# bash\n",
        "uvicorn app:app --host 0.0.0.0 --port 8000"
      ],
      "metadata": {
        "id": "blpUJy7WwFiQ"
      },
      "execution_count": null,
      "outputs": []
    },
    {
      "cell_type": "markdown",
      "source": [
        "7. Dockerization\n"
      ],
      "metadata": {
        "id": "rhlyEju0wH4k"
      }
    },
    {
      "cell_type": "markdown",
      "source": [
        "7.1 Creating a Dockerfile"
      ],
      "metadata": {
        "id": "JfhFOLXDwNZm"
      }
    },
    {
      "cell_type": "markdown",
      "source": [
        "Create a Dockerfile with the following content:\n",
        "\n"
      ],
      "metadata": {
        "id": "_wZB8MJWwPA0"
      }
    },
    {
      "cell_type": "code",
      "source": [
        "# DOCKER FILE\n",
        "\n",
        "# Base image\n",
        "FROM python:3.8-slim\n",
        "\n",
        "# Set the working directory\n",
        "WORKDIR /app\n",
        "\n",
        "# Copy requirements.txt and install dependencies\n",
        "COPY requirements.txt .\n",
        "RUN pip install --no-cache-dir -r requirements.txt\n",
        "\n",
        "# Copy all application files\n",
        "COPY . .\n",
        "\n",
        "# Expose port\n",
        "EXPOSE 80\n",
        "\n",
        "# Run the app with Uvicorn\n",
        "CMD [\"uvicorn\", \"app:app\", \"--host\", \"0.0.0.0\", \"--port\", \"80\"]"
      ],
      "metadata": {
        "id": "IbAPnW-6wKtH"
      },
      "execution_count": null,
      "outputs": []
    },
    {
      "cell_type": "markdown",
      "source": [
        "7.2 Creating requirements.txt\n"
      ],
      "metadata": {
        "id": "6qiZEFV0wUxE"
      }
    },
    {
      "cell_type": "markdown",
      "source": [
        "Include the necessary libraries in requirements.txt:\n",
        "\n",
        "\n"
      ],
      "metadata": {
        "id": "9VrTNIhkwaG0"
      }
    },
    {
      "cell_type": "markdown",
      "source": [
        "fastapi\n",
        "uvicorn\n",
        "pandas\n",
        "joblib\n",
        "scikit-learn"
      ],
      "metadata": {
        "id": "n2pJUWfpwcU7"
      }
    },
    {
      "cell_type": "markdown",
      "source": [
        "7.3 Building the Docker Image\n"
      ],
      "metadata": {
        "id": "UrXfAZgDwfC9"
      }
    },
    {
      "cell_type": "code",
      "source": [
        "docker build -t titanic-api ."
      ],
      "metadata": {
        "id": "fzfgDpr5wXjX"
      },
      "execution_count": null,
      "outputs": []
    },
    {
      "cell_type": "markdown",
      "source": [
        "7.4 Running the Docker Container\n"
      ],
      "metadata": {
        "id": "5suCw9kVwj7U"
      }
    },
    {
      "cell_type": "code",
      "source": [
        "docker run -d -p 80:80 titanic-api"
      ],
      "metadata": {
        "id": "Uh_DqFrLwm5m"
      },
      "execution_count": null,
      "outputs": []
    },
    {
      "cell_type": "markdown",
      "source": [
        "This command runs the Docker container in detached mode and maps port 80 of the container to port 80 on the host machine."
      ],
      "metadata": {
        "id": "5jgyBPeuwpJH"
      }
    },
    {
      "cell_type": "markdown",
      "source": [
        "8. Preparation for Cloud Deployment\n"
      ],
      "metadata": {
        "id": "dBjJK372wwcl"
      }
    },
    {
      "cell_type": "markdown",
      "source": [
        "For deploying to a cloud provider (AWS, GCP, Azure, etc.):\n",
        "\n",
        "Push Docker Image to Cloud Registry: For example, using AWS ECR to store your Docker images.\n",
        "Deployment with Kubernetes: Use Kubernetes to manage your containers in a scalable way.\n",
        "Create Deployment and Service YAMLs: Prepare deployment.yaml and service.yaml files for Kubernetes.\n",
        "Set Up CI/CD Pipeline for Automatic Deployment: Integrate your code repository with continuous deployment tools to automatically deploy changes."
      ],
      "metadata": {
        "id": "1dGB7ETFw2DM"
      }
    },
    {
      "cell_type": "markdown",
      "source": [
        "9. CI/CD Pipeline Example (using GitHub Actions)\n"
      ],
      "metadata": {
        "id": "KDrwkSQVw45Z"
      }
    },
    {
      "cell_type": "markdown",
      "source": [
        "9.1 Creating a GitHub Actions Workflow File\n"
      ],
      "metadata": {
        "id": "_LSlzpxBw7U8"
      }
    },
    {
      "cell_type": "markdown",
      "source": [
        "Create a file named .github/workflows/docker-image.yml in your repository:\n",
        "\n"
      ],
      "metadata": {
        "id": "mzyJiUdnw-OH"
      }
    },
    {
      "cell_type": "markdown",
      "source": [
        "Create a file named .github/workflows/docker-image.yml in your repository:\n",
        "\n"
      ],
      "metadata": {
        "id": "-SltuneOxBYd"
      }
    },
    {
      "cell_type": "code",
      "source": [
        "# YAML file\n",
        "name: Docker Image CI\n",
        "\n",
        "on:\n",
        "  push:\n",
        "    branches: [ main ]\n",
        "\n",
        "jobs:\n",
        "  build:\n",
        "    runs-on: ubuntu-latest\n",
        "\n",
        "    steps:\n",
        "    - name: Check out code\n",
        "      uses: actions/checkout@v2\n",
        "\n",
        "    - name: Log in to Docker Hub\n",
        "      uses: docker/login-action@v2\n",
        "      with:\n",
        "        username: ${{ secrets.DOCKER_USERNAME }}\n",
        "        password: ${{ secrets.DOCKER_PASSWORD }}\n",
        "\n",
        "    - name: Build and push Docker image\n",
        "      uses: docker/build-push-action@v2\n",
        "      with:\n",
        "        push: true\n",
        "        tags: yourdockerhubusername/titanic-api:${{ github.sha }}"
      ],
      "metadata": {
        "id": "KqskQ3qVwvmb"
      },
      "execution_count": null,
      "outputs": []
    },
    {
      "cell_type": "markdown",
      "source": [
        "Note: Replace yourdockerhubusername with your actual Docker Hub username. Also, make sure to add DOCKER_USERNAME and DOCKER_PASSWORD to your GitHub repository secrets.\n",
        "\n"
      ],
      "metadata": {
        "id": "rIrj3SP1xItQ"
      }
    }
  ]
}